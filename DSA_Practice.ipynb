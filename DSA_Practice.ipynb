{
  "nbformat": 4,
  "nbformat_minor": 0,
  "metadata": {
    "colab": {
      "provenance": [],
      "toc_visible": true,
      "authorship_tag": "ABX9TyMoiyrGb66zr/aqIp0QDF0W",
      "include_colab_link": true
    },
    "kernelspec": {
      "name": "python3",
      "display_name": "Python 3"
    },
    "language_info": {
      "name": "python"
    }
  },
  "cells": [
    {
      "cell_type": "markdown",
      "metadata": {
        "id": "view-in-github",
        "colab_type": "text"
      },
      "source": [
        "<a href=\"https://colab.research.google.com/github/Jeekshitha/CSS/blob/main/DSA_Practice.ipynb\" target=\"_parent\"><img src=\"https://colab.research.google.com/assets/colab-badge.svg\" alt=\"Open In Colab\"/></a>"
      ]
    },
    {
      "cell_type": "code",
      "execution_count": null,
      "metadata": {
        "colab": {
          "base_uri": "https://localhost:8080/"
        },
        "id": "EUmAWGkWWT2O",
        "outputId": "408ce431-7b8c-474d-d441-2d7d113c01a4"
      },
      "outputs": [
        {
          "output_type": "stream",
          "name": "stdout",
          "text": [
            "4\n"
          ]
        }
      ],
      "source": [
        "#LinearSearch\n",
        "def L_S(Arr,It):\n",
        "  for val in range(len(Arr)):\n",
        "    if Arr[val] == It:\n",
        "      return val\n",
        "      break\n",
        "  else:\n",
        "    k = False\n",
        "Arr=[2,10,20,11,9]\n",
        "It = 9\n",
        "k = True\n",
        "if (k == True):\n",
        "  print(L_S(Arr,It))\n",
        "else:\n",
        "  print(\"Element not Found\")\n"
      ]
    },
    {
      "cell_type": "code",
      "source": [
        "#BinarySerach\n",
        "def B_s(arr,x,low,high):\n",
        "  if(low<=high):\n",
        "    mid = low+high//2\n",
        "    if(arr[mid] == x):\n",
        "      return mid\n",
        "    elif arr[mid] < x:\n",
        "      return B_s(arr,x,mid+1,high)\n",
        "    else:\n",
        "      return B_s(arr,x,low,mid-1)\n",
        "  else :\n",
        "    return -1\n",
        "arr = [10,20,30,40,50]\n",
        "x = 20\n",
        "result = B_s(arr,x,0,len(arr))\n",
        "if(result == -1):\n",
        "  print(\"Element not found\")\n",
        "else:\n",
        "  print(f'Element found at {result}')\n",
        "\n",
        "\n"
      ],
      "metadata": {
        "colab": {
          "base_uri": "https://localhost:8080/"
        },
        "id": "J444mh0FWl52",
        "outputId": "91807612-dc84-4439-8258-39a94c179a12"
      },
      "execution_count": null,
      "outputs": [
        {
          "output_type": "stream",
          "name": "stdout",
          "text": [
            "Element found at 1\n"
          ]
        }
      ]
    },
    {
      "cell_type": "code",
      "source": [
        "#BinarySearch2\n",
        "def B_s(arr):\n",
        "  for i in range(len(arr)):\n",
        "    for j in range(len(arr)-i-1):\n",
        "      if(arr[j]>arr[j+1]):\n",
        "        arr[j],arr[j+1]=arr[j+1],arr[j]\n",
        "  return arr\n",
        "arr = list(map(int,input().split()))\n",
        "print(B_s(arr))"
      ],
      "metadata": {
        "colab": {
          "base_uri": "https://localhost:8080/"
        },
        "id": "l1_gG5Cruoj1",
        "outputId": "15a3fb77-3bab-4adb-a258-17cb33105662"
      },
      "execution_count": null,
      "outputs": [
        {
          "output_type": "stream",
          "name": "stdout",
          "text": [
            "7 2 7 8 9 3\n",
            "[2, 3, 7, 7, 8, 9]\n"
          ]
        }
      ]
    },
    {
      "cell_type": "code",
      "source": [
        "#selectionSort\n",
        "def S_s(arr):\n",
        "  for i in range(len(arr)):\n",
        "    for j in range(i+1,len(arr)):\n",
        "      if arr[i]>arr[j]:\n",
        "        arr[i],arr[j]=arr[j],arr[i]\n",
        "  return arr\n",
        "arr =[6,4,1,2,8,7,3,21]\n",
        "print(S_s(arr))\n"
      ],
      "metadata": {
        "colab": {
          "base_uri": "https://localhost:8080/"
        },
        "id": "HK9drXN7yyjP",
        "outputId": "c3c58bc7-175b-4d11-f044-ee42b0a9d5bb"
      },
      "execution_count": null,
      "outputs": [
        {
          "output_type": "stream",
          "name": "stdout",
          "text": [
            "[1, 2, 3, 4, 6, 7, 8, 21]\n"
          ]
        }
      ]
    },
    {
      "cell_type": "code",
      "source": [
        "#InsertionSort\n",
        "arr = [9,5,1,4,6,7,3,2]\n",
        "def I_s(arr):\n",
        "  for i in range(1,len(arr)):\n",
        "    key = arr[i]\n",
        "    j = i-1\n",
        "    while((j>=0) and key < arr[j]):\n",
        "      arr[j+1] = arr[j]\n",
        "      j-=1\n",
        "      arr[j+1] = key\n",
        "  return arr\n",
        "print(I_s(arr))\n",
        "\n"
      ],
      "metadata": {
        "colab": {
          "base_uri": "https://localhost:8080/"
        },
        "id": "U6g6GEHg9SlD",
        "outputId": "246da07e-bb4f-4ced-a88b-0a9ed53827b0"
      },
      "execution_count": null,
      "outputs": [
        {
          "output_type": "stream",
          "name": "stdout",
          "text": [
            "[1, 2, 3, 4, 5, 6, 7, 9]\n"
          ]
        }
      ]
    },
    {
      "cell_type": "code",
      "source": [
        "#MergeSort\n",
        "def merge(left,right):\n",
        "  merged = []\n",
        "  i = 0\n",
        "  j = 0\n",
        "  while (i<len(left) and j<len(right)):\n",
        "    if left[i] <= right[j]:\n",
        "      merged.append(left[i])\n",
        "      i+=1\n",
        "    else:\n",
        "      merged.append(right[j])\n",
        "      j+=1\n",
        "  merged += left[i:] + right[j:]\n",
        "  return merged\n",
        "def MergeSort(Arr):\n",
        "  if len(Arr) == 1:\n",
        "    return Arr\n",
        "  mid = len(Arr)//2\n",
        "  left = MergeSort(Arr[:mid])\n",
        "  right = MergeSort(Arr[mid:])\n",
        "  return merge(left,right)\n",
        "Arr = list(map(int,input().split()))\n",
        "print(MergeSort(Arr))\n",
        "\n",
        "\n"
      ],
      "metadata": {
        "colab": {
          "base_uri": "https://localhost:8080/"
        },
        "id": "86bboS-5-Vrb",
        "outputId": "a22bc9af-d059-481d-d8f8-11dc1b43dcca"
      },
      "execution_count": null,
      "outputs": [
        {
          "output_type": "stream",
          "name": "stdout",
          "text": [
            "7 1 9 4 2 10\n",
            "[1, 2, 4, 7, 9, 10]\n"
          ]
        }
      ]
    },
    {
      "cell_type": "code",
      "source": [
        "#LinkedListOperations\n",
        "class Node:\n",
        "  def __init__(self,data,next=None):\n",
        "    self.data = data\n",
        "    self.next = next\n",
        "class LinkedList:\n",
        "  def __init__(self): #Creation\n",
        "    self.head = None\n",
        "  def PrintNode(self):\n",
        "    if self.head is None:\n",
        "      print('Linked List is empty')\n",
        "      return\n",
        "    ln = self.head\n",
        "    llstr =''\n",
        "    while ln:\n",
        "      llstr += str(ln.data) +'->' if ln.next else str(ln.data)\n",
        "      ln = ln.next\n",
        "    print(llstr)\n",
        "  def length(self): #traversing\n",
        "      count = 0\n",
        "      ln = self.head\n",
        "      while ln:\n",
        "        count += 1\n",
        "        ln = ln.next\n",
        "      return count\n",
        "\n",
        "\n",
        "ll = LinkedList()\n",
        "ll.head = Node(1)\n",
        "ll.head.next = second\n",
        "second = Node(2)\n",
        "third = Node(3)\n",
        "second.next = third\n",
        "ll.PrintNode()\n",
        "ll.length()"
      ],
      "metadata": {
        "id": "bmAye_2oWk-5",
        "colab": {
          "base_uri": "https://localhost:8080/"
        },
        "outputId": "6a08ac79-1a69-43b0-9fe9-510bc1f5e09c"
      },
      "execution_count": null,
      "outputs": [
        {
          "output_type": "stream",
          "name": "stdout",
          "text": [
            "1->2->3\n"
          ]
        },
        {
          "output_type": "execute_result",
          "data": {
            "text/plain": [
              "3"
            ]
          },
          "metadata": {},
          "execution_count": 57
        }
      ]
    },
    {
      "cell_type": "markdown",
      "source": [],
      "metadata": {
        "id": "ucP-3c8hgsZ7"
      }
    },
    {
      "cell_type": "code",
      "source": [],
      "metadata": {
        "id": "vCRirkNGYwsA"
      },
      "execution_count": null,
      "outputs": []
    }
  ]
}